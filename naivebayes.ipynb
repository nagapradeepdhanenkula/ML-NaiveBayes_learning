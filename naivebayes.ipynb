{
 "cells": [
  {
   "cell_type": "code",
   "execution_count": 1,
   "id": "47613c48",
   "metadata": {},
   "outputs": [],
   "source": [
    "import numpy as np\n",
    "import pandas as pd\n",
    "import matplotlib.pyplot as plt\n",
    "import seaborn as sns\n",
    "from sklearn.feature_extraction.text import CountVectorizer, TfidfTransformer\n",
    "\n",
    "plt.style.use('fivethirtyeight')\n",
    "%matplotlib inline\n",
    "%config InlineBackend.figure_format='retina'"
   ]
  },
  {
   "cell_type": "code",
   "execution_count": 2,
   "id": "3507954c",
   "metadata": {},
   "outputs": [],
   "source": [
    "def read_file(file):\n",
    "    documents = []\n",
    "    labels = []\n",
    "    with open(file, 'r', encoding='utf-8') as f:\n",
    "        for row in f:\n",
    "            elems = row.strip().split()\n",
    "            if len(elems) > 3:\n",
    "                documents.append(elems[3:])\n",
    "                labels.append(elems[1])\n",
    "    return documents, labels"
   ]
  },
  {
   "cell_type": "code",
   "execution_count": 4,
   "id": "ad844ba6",
   "metadata": {},
   "outputs": [
    {
     "name": "stdout",
     "output_type": "stream",
     "text": [
      "['martin', 'short', 'is', 'priceless', 'in', 'this', 'movie', '-', 'i', 'enjoyed', 'every', 'minute', '.', '\\\\'] pos\n"
     ]
    }
   ],
   "source": [
    "documents, labels = read_file('all_sentiment_shuffled-1.rtf')\n",
    "print(documents[10], labels[10])"
   ]
  },
  {
   "cell_type": "code",
   "execution_count": 5,
   "id": "14cf0f3e",
   "metadata": {},
   "outputs": [
    {
     "data": {
      "text/html": [
       "<div>\n",
       "<style scoped>\n",
       "    .dataframe tbody tr th:only-of-type {\n",
       "        vertical-align: middle;\n",
       "    }\n",
       "\n",
       "    .dataframe tbody tr th {\n",
       "        vertical-align: top;\n",
       "    }\n",
       "\n",
       "    .dataframe thead th {\n",
       "        text-align: right;\n",
       "    }\n",
       "</style>\n",
       "<table border=\"1\" class=\"dataframe\">\n",
       "  <thead>\n",
       "    <tr style=\"text-align: right;\">\n",
       "      <th></th>\n",
       "      <th>document</th>\n",
       "      <th>label</th>\n",
       "    </tr>\n",
       "  </thead>\n",
       "  <tbody>\n",
       "    <tr>\n",
       "      <th>0</th>\n",
       "      <td>[neg, 241.txt, i, bought, this, album, because...</td>\n",
       "      <td>\\strokec2</td>\n",
       "    </tr>\n",
       "    <tr>\n",
       "      <th>1</th>\n",
       "      <td>[i, was, misled, and, thought, i, was, buying,...</td>\n",
       "      <td>neg</td>\n",
       "    </tr>\n",
       "    <tr>\n",
       "      <th>2</th>\n",
       "      <td>[i, have, introduced, many, of, my, ell, ,, hi...</td>\n",
       "      <td>neg</td>\n",
       "    </tr>\n",
       "    <tr>\n",
       "      <th>3</th>\n",
       "      <td>[anything, you, purchase, in, the, left, behin...</td>\n",
       "      <td>pos</td>\n",
       "    </tr>\n",
       "    <tr>\n",
       "      <th>4</th>\n",
       "      <td>[i, loved, these, movies, ,, and, i, cant, wia...</td>\n",
       "      <td>pos</td>\n",
       "    </tr>\n",
       "  </tbody>\n",
       "</table>\n",
       "</div>"
      ],
      "text/plain": [
       "                                            document      label\n",
       "0  [neg, 241.txt, i, bought, this, album, because...  \\strokec2\n",
       "1  [i, was, misled, and, thought, i, was, buying,...        neg\n",
       "2  [i, have, introduced, many, of, my, ell, ,, hi...        neg\n",
       "3  [anything, you, purchase, in, the, left, behin...        pos\n",
       "4  [i, loved, these, movies, ,, and, i, cant, wia...        pos"
      ]
     },
     "execution_count": 5,
     "metadata": {},
     "output_type": "execute_result"
    }
   ],
   "source": [
    "df = pd.DataFrame({'document': documents, 'label': labels})\n",
    "df.head()"
   ]
  },
  {
   "cell_type": "code",
   "execution_count": 6,
   "id": "be7e2bee",
   "metadata": {},
   "outputs": [
    {
     "data": {
      "text/plain": [
       "(11914, 2)"
      ]
     },
     "execution_count": 6,
     "metadata": {},
     "output_type": "execute_result"
    }
   ],
   "source": [
    "df.shape"
   ]
  },
  {
   "cell_type": "code",
   "execution_count": 7,
   "id": "e7ffb01b",
   "metadata": {},
   "outputs": [
    {
     "data": {
      "text/html": [
       "<div>\n",
       "<style scoped>\n",
       "    .dataframe tbody tr th:only-of-type {\n",
       "        vertical-align: middle;\n",
       "    }\n",
       "\n",
       "    .dataframe tbody tr th {\n",
       "        vertical-align: top;\n",
       "    }\n",
       "\n",
       "    .dataframe thead th {\n",
       "        text-align: right;\n",
       "    }\n",
       "</style>\n",
       "<table border=\"1\" class=\"dataframe\">\n",
       "  <thead>\n",
       "    <tr style=\"text-align: right;\">\n",
       "      <th></th>\n",
       "      <th>document</th>\n",
       "      <th>label</th>\n",
       "    </tr>\n",
       "  </thead>\n",
       "  <tbody>\n",
       "    <tr>\n",
       "      <th>0</th>\n",
       "      <td>neg 241.txt i bought this album because i love...</td>\n",
       "      <td>0</td>\n",
       "    </tr>\n",
       "    <tr>\n",
       "      <th>1</th>\n",
       "      <td>i was misled and thought i was buying the enti...</td>\n",
       "      <td>0</td>\n",
       "    </tr>\n",
       "    <tr>\n",
       "      <th>2</th>\n",
       "      <td>i have introduced many of my ell high school s...</td>\n",
       "      <td>0</td>\n",
       "    </tr>\n",
       "    <tr>\n",
       "      <th>3</th>\n",
       "      <td>anything you purchase in the left behind serie...</td>\n",
       "      <td>1</td>\n",
       "    </tr>\n",
       "    <tr>\n",
       "      <th>4</th>\n",
       "      <td>i loved these movies and i cant wiat for the t...</td>\n",
       "      <td>1</td>\n",
       "    </tr>\n",
       "  </tbody>\n",
       "</table>\n",
       "</div>"
      ],
      "text/plain": [
       "                                            document  label\n",
       "0  neg 241.txt i bought this album because i love...      0\n",
       "1  i was misled and thought i was buying the enti...      0\n",
       "2  i have introduced many of my ell high school s...      0\n",
       "3  anything you purchase in the left behind serie...      1\n",
       "4  i loved these movies and i cant wiat for the t...      1"
      ]
     },
     "execution_count": 7,
     "metadata": {},
     "output_type": "execute_result"
    }
   ],
   "source": [
    "import string\n",
    "\n",
    "df['document'] = df['document'].apply(lambda x: ' '.join([i for i in x if i not in string.punctuation]))\n",
    "df['label'] = df['label'].apply(lambda x: 1 if x == 'pos' else 0)\n",
    "df.head()"
   ]
  },
  {
   "cell_type": "code",
   "execution_count": 8,
   "id": "bff86a77",
   "metadata": {},
   "outputs": [
    {
     "data": {
      "text/plain": [
       "<AxesSubplot:xlabel='count', ylabel='label'>"
      ]
     },
     "execution_count": 8,
     "metadata": {},
     "output_type": "execute_result"
    },
    {
     "data": {
      "image/png": "[encoded data removed]",
      "text/plain": [
       "<Figure size 432x288 with 1 Axes>"
      ]
     },
     "metadata": {
      "image/png": {
       "height": 260,
       "width": 416
      },
      "needs_background": "light"
     },
     "output_type": "display_data"
    }
   ],
   "source": [
    "sns.countplot(data=df, y='label')"
   ]
  },
  {
   "cell_type": "code",
   "execution_count": 9,
   "id": "1c444948",
   "metadata": {},
   "outputs": [
    {
     "data": {
      "text/plain": [
       "((9531,), (2383,))"
      ]
     },
     "execution_count": 9,
     "metadata": {},
     "output_type": "execute_result"
    }
   ],
   "source": [
    "from sklearn.model_selection import train_test_split\n",
    "\n",
    "X_train, X_test, y_train, y_test = train_test_split(df['document'], df['label'], train_size=.8)\n",
    "X_train.shape, X_test.shape"
   ]
  },
  {
   "cell_type": "code",
   "execution_count": 10,
   "id": "98d277ab",
   "metadata": {},
   "outputs": [
    {
     "data": {
      "text/plain": [
       "\"neg 241.txt i bought this album because i loved the title song it 's such a great song how bad can the rest of the album be right well the rest of the songs are just filler and are n't worth the money i paid for this it 's either shameless bubblegum or oversentimentalized depressing tripe kenny chesney is a popular artist and as a result he is in the cookie cutter category of the nashville music scene he 's gotta pump out the albums so the record company can keep lining their pockets while the suckers out there keep buying this garbage to perpetuate more garbage coming out of that town i 'll get down off my soapbox now but country music really needs to get back to it 's roots and stop this pop nonsense what country music really is and what it is considered to be by mainstream are two different things\""
      ]
     },
     "execution_count": 10,
     "metadata": {},
     "output_type": "execute_result"
    }
   ],
   "source": [
    "X_train[0]"
   ]
  },
  {
   "cell_type": "code",
   "execution_count": 11,
   "id": "151e8381",
   "metadata": {},
   "outputs": [
    {
     "data": {
      "text/plain": [
       "pandas.core.series.Series"
      ]
     },
     "execution_count": 11,
     "metadata": {},
     "output_type": "execute_result"
    }
   ],
   "source": [
    "type(X_train)"
   ]
  },
  {
   "cell_type": "code",
   "execution_count": 12,
   "id": "72867e07",
   "metadata": {},
   "outputs": [],
   "source": [
    "from sklearn.feature_extraction.text import CountVectorizer\n",
    "from sklearn.naive_bayes import MultinomialNB\n",
    "from sklearn.pipeline import Pipeline\n",
    "from sklearn.metrics import confusion_matrix, accuracy_score\n",
    "\n",
    "model = Pipeline([\n",
    "                ('count', CountVectorizer()),\n",
    "                ('tfidf', TfidfTransformer()),\n",
    "                ('gnb', MultinomialNB()),\n",
    "                ])\n",
    "naive_bayes_classifier=model.fit(X_train, y_train)\n",
    "y_preds = naive_bayes_classifier.predict(X_test)"
   ]
  },
  {
   "cell_type": "code",
   "execution_count": 13,
   "id": "6086f6ac",
   "metadata": {},
   "outputs": [
    {
     "name": "stdout",
     "output_type": "stream",
     "text": [
      "[[1030  198]\n",
      " [ 174  981]]\n"
     ]
    }
   ],
   "source": [
    "cf_matrix=confusion_matrix(y_test, y_preds)\n",
    "print(cf_matrix)"
   ]
  },
  {
   "cell_type": "code",
   "execution_count": 14,
   "id": "8796aacb",
   "metadata": {},
   "outputs": [
    {
     "data": {
      "image/png": "[encoded data removed]",
      "text/plain": [
       "<Figure size 432x288 with 2 Axes>"
      ]
     },
     "metadata": {
      "image/png": {
       "height": 324,
       "width": 402
      },
      "needs_background": "light"
     },
     "output_type": "display_data"
    },
    {
     "name": "stdout",
     "output_type": "stream",
     "text": [
      "The accuracy is 0.843894250944188\n"
     ]
    }
   ],
   "source": [
    "import seaborn as sns\n",
    "\n",
    "ax = sns.heatmap(cf_matrix, annot=True, cmap='winter',fmt='g')\n",
    "\n",
    "ax.set_title('Seaborn Confusion Matrix with labels\\n\\n');\n",
    "ax.set_xlabel('\\nPredicted Values')\n",
    "ax.set_ylabel('Actual Values ');\n",
    "\n",
    "## Ticket labels - List must be in alphabetical order\n",
    "ax.xaxis.set_ticklabels(['False','True'])\n",
    "ax.yaxis.set_ticklabels(['False','True'])\n",
    "\n",
    "## Display the visualization of the Confusion Matrix.\n",
    "plt.show()\n",
    "print(f\"The accuracy is {accuracy_score(y_test, y_preds)}\")"
   ]
  },
  {
   "cell_type": "code",
   "execution_count": 15,
   "id": "3ccc835a",
   "metadata": {},
   "outputs": [
    {
     "name": "stdout",
     "output_type": "stream",
     "text": [
      "CLASSIFICATION REPORT CHART:  \n",
      "\n",
      "               precision    recall  f1-score   support\n",
      "\n",
      "           0       0.86      0.84      0.85      1228\n",
      "           1       0.83      0.85      0.84      1155\n",
      "\n",
      "    accuracy                           0.84      2383\n",
      "   macro avg       0.84      0.84      0.84      2383\n",
      "weighted avg       0.84      0.84      0.84      2383\n",
      "\n"
     ]
    }
   ],
   "source": [
    "from sklearn.metrics import classification_report\n",
    "print(\"CLASSIFICATION REPORT CHART: \",\"\\n\\n\",classification_report(y_test, y_preds))"
   ]
  },
  {
   "cell_type": "code",
   "execution_count": 16,
   "id": "7c6a0d7f",
   "metadata": {},
   "outputs": [
    {
     "name": "stdout",
     "output_type": "stream",
     "text": [
      "Cross-validation scores:[0.83228512 0.82056663 0.8069255  0.8247639  0.8363064  0.82266527\n",
      " 0.84260231 0.83420776 0.81427072 0.82686254]\n",
      "\n",
      "\n",
      "Cross-Validation accuracy: 0.826 +/- 0.010\n"
     ]
    }
   ],
   "source": [
    "from sklearn.model_selection import cross_val_score\n",
    "\n",
    "scores = cross_val_score(naive_bayes_classifier, X_train, y_train, cv = 10, scoring='accuracy')\n",
    "\n",
    "print('Cross-validation scores:{}'.format(scores))\n",
    "\n",
    "#print('Fold: %2d, Training/Test Split Distribution: %s, Accuracy: %.3f' % (k+1, np.bincount(y_train.iloc[train]), scores))\n",
    " \n",
    "print('\\n\\nCross-Validation accuracy: %.3f +/- %.3f' %(np.mean(scores), np.std(scores)))"
   ]
  },
  {
   "cell_type": "code",
   "execution_count": 17,
   "id": "01192802",
   "metadata": {},
   "outputs": [
    {
     "data": {
      "text/html": [
       "<div>\n",
       "<style scoped>\n",
       "    .dataframe tbody tr th:only-of-type {\n",
       "        vertical-align: middle;\n",
       "    }\n",
       "\n",
       "    .dataframe tbody tr th {\n",
       "        vertical-align: top;\n",
       "    }\n",
       "\n",
       "    .dataframe thead th {\n",
       "        text-align: right;\n",
       "    }\n",
       "</style>\n",
       "<table border=\"1\" class=\"dataframe\">\n",
       "  <thead>\n",
       "    <tr style=\"text-align: right;\">\n",
       "      <th></th>\n",
       "      <th>document</th>\n",
       "      <th>label</th>\n",
       "    </tr>\n",
       "  </thead>\n",
       "  <tbody>\n",
       "    <tr>\n",
       "      <th>11639</th>\n",
       "      <td>no problems like the small format bottle easy ...</td>\n",
       "      <td>1</td>\n",
       "    </tr>\n",
       "    <tr>\n",
       "      <th>9817</th>\n",
       "      <td>well i like the song i shall believe and that ...</td>\n",
       "      <td>0</td>\n",
       "    </tr>\n",
       "    <tr>\n",
       "      <th>3808</th>\n",
       "      <td>the novel a northern light by jennifer donnell...</td>\n",
       "      <td>0</td>\n",
       "    </tr>\n",
       "    <tr>\n",
       "      <th>4559</th>\n",
       "      <td>truly frightening gruesome a gore-fest a blood...</td>\n",
       "      <td>1</td>\n",
       "    </tr>\n",
       "    <tr>\n",
       "      <th>9828</th>\n",
       "      <td>i love the firm workouts and i love the instru...</td>\n",
       "      <td>0</td>\n",
       "    </tr>\n",
       "    <tr>\n",
       "      <th>...</th>\n",
       "      <td>...</td>\n",
       "      <td>...</td>\n",
       "    </tr>\n",
       "    <tr>\n",
       "      <th>3579</th>\n",
       "      <td>camera worked great for us for 6 months easy t...</td>\n",
       "      <td>0</td>\n",
       "    </tr>\n",
       "    <tr>\n",
       "      <th>9754</th>\n",
       "      <td>this is a great back pack if there is anything...</td>\n",
       "      <td>1</td>\n",
       "    </tr>\n",
       "    <tr>\n",
       "      <th>8669</th>\n",
       "      <td>i have been using adobe acrobat for a few year...</td>\n",
       "      <td>1</td>\n",
       "    </tr>\n",
       "    <tr>\n",
       "      <th>11501</th>\n",
       "      <td>this book was written in the 80s was copy writ...</td>\n",
       "      <td>0</td>\n",
       "    </tr>\n",
       "    <tr>\n",
       "      <th>5350</th>\n",
       "      <td>this is a very cheap memory foam it reminds me...</td>\n",
       "      <td>0</td>\n",
       "    </tr>\n",
       "  </tbody>\n",
       "</table>\n",
       "<p>2383 rows × 2 columns</p>\n",
       "</div>"
      ],
      "text/plain": [
       "                                                document  label\n",
       "11639  no problems like the small format bottle easy ...      1\n",
       "9817   well i like the song i shall believe and that ...      0\n",
       "3808   the novel a northern light by jennifer donnell...      0\n",
       "4559   truly frightening gruesome a gore-fest a blood...      1\n",
       "9828   i love the firm workouts and i love the instru...      0\n",
       "...                                                  ...    ...\n",
       "3579   camera worked great for us for 6 months easy t...      0\n",
       "9754   this is a great back pack if there is anything...      1\n",
       "8669   i have been using adobe acrobat for a few year...      1\n",
       "11501  this book was written in the 80s was copy writ...      0\n",
       "5350   this is a very cheap memory foam it reminds me...      0\n",
       "\n",
       "[2383 rows x 2 columns]"
      ]
     },
     "execution_count": 17,
     "metadata": {},
     "output_type": "execute_result"
    }
   ],
   "source": [
    "test_data = pd.concat([X_test, y_test], axis=1)\n",
    "test_data"
   ]
  },
  {
   "cell_type": "code",
   "execution_count": 18,
   "id": "750554b9",
   "metadata": {},
   "outputs": [
    {
     "data": {
      "text/plain": [
       "array([[-0.88153646, -0.53468485],\n",
       "       [-0.59750988, -0.79890766],\n",
       "       [-1.67010884, -0.20853401],\n",
       "       ...,\n",
       "       [-1.28357924, -0.3244068 ],\n",
       "       [-0.43019363, -1.05091743],\n",
       "       [-0.67331257, -0.71338318]])"
      ]
     },
     "execution_count": 18,
     "metadata": {},
     "output_type": "execute_result"
    }
   ],
   "source": [
    "log_probas = model.predict_log_proba(X_test)\n",
    "(log_probas)"
   ]
  },
  {
   "cell_type": "code",
   "execution_count": 19,
   "id": "266af603",
   "metadata": {},
   "outputs": [
    {
     "data": {
      "text/html": [
       "<div>\n",
       "<style scoped>\n",
       "    .dataframe tbody tr th:only-of-type {\n",
       "        vertical-align: middle;\n",
       "    }\n",
       "\n",
       "    .dataframe tbody tr th {\n",
       "        vertical-align: top;\n",
       "    }\n",
       "\n",
       "    .dataframe thead th {\n",
       "        text-align: right;\n",
       "    }\n",
       "</style>\n",
       "<table border=\"1\" class=\"dataframe\">\n",
       "  <thead>\n",
       "    <tr style=\"text-align: right;\">\n",
       "      <th></th>\n",
       "      <th>document</th>\n",
       "      <th>label</th>\n",
       "      <th>prediction</th>\n",
       "      <th>neg_log_prob</th>\n",
       "      <th>pos_log_prob</th>\n",
       "    </tr>\n",
       "  </thead>\n",
       "  <tbody>\n",
       "    <tr>\n",
       "      <th>11639</th>\n",
       "      <td>no problems like the small format bottle easy ...</td>\n",
       "      <td>1</td>\n",
       "      <td>1</td>\n",
       "      <td>-0.881536</td>\n",
       "      <td>-0.534685</td>\n",
       "    </tr>\n",
       "    <tr>\n",
       "      <th>9817</th>\n",
       "      <td>well i like the song i shall believe and that ...</td>\n",
       "      <td>0</td>\n",
       "      <td>0</td>\n",
       "      <td>-0.597510</td>\n",
       "      <td>-0.798908</td>\n",
       "    </tr>\n",
       "    <tr>\n",
       "      <th>3808</th>\n",
       "      <td>the novel a northern light by jennifer donnell...</td>\n",
       "      <td>0</td>\n",
       "      <td>1</td>\n",
       "      <td>-1.670109</td>\n",
       "      <td>-0.208534</td>\n",
       "    </tr>\n",
       "    <tr>\n",
       "      <th>4559</th>\n",
       "      <td>truly frightening gruesome a gore-fest a blood...</td>\n",
       "      <td>1</td>\n",
       "      <td>0</td>\n",
       "      <td>-0.637861</td>\n",
       "      <td>-0.751670</td>\n",
       "    </tr>\n",
       "    <tr>\n",
       "      <th>9828</th>\n",
       "      <td>i love the firm workouts and i love the instru...</td>\n",
       "      <td>0</td>\n",
       "      <td>0</td>\n",
       "      <td>-0.644053</td>\n",
       "      <td>-0.744777</td>\n",
       "    </tr>\n",
       "    <tr>\n",
       "      <th>...</th>\n",
       "      <td>...</td>\n",
       "      <td>...</td>\n",
       "      <td>...</td>\n",
       "      <td>...</td>\n",
       "      <td>...</td>\n",
       "    </tr>\n",
       "    <tr>\n",
       "      <th>3579</th>\n",
       "      <td>camera worked great for us for 6 months easy t...</td>\n",
       "      <td>0</td>\n",
       "      <td>0</td>\n",
       "      <td>-0.379574</td>\n",
       "      <td>-1.152498</td>\n",
       "    </tr>\n",
       "    <tr>\n",
       "      <th>9754</th>\n",
       "      <td>this is a great back pack if there is anything...</td>\n",
       "      <td>1</td>\n",
       "      <td>1</td>\n",
       "      <td>-0.813853</td>\n",
       "      <td>-0.585454</td>\n",
       "    </tr>\n",
       "    <tr>\n",
       "      <th>8669</th>\n",
       "      <td>i have been using adobe acrobat for a few year...</td>\n",
       "      <td>1</td>\n",
       "      <td>1</td>\n",
       "      <td>-1.283579</td>\n",
       "      <td>-0.324407</td>\n",
       "    </tr>\n",
       "    <tr>\n",
       "      <th>11501</th>\n",
       "      <td>this book was written in the 80s was copy writ...</td>\n",
       "      <td>0</td>\n",
       "      <td>0</td>\n",
       "      <td>-0.430194</td>\n",
       "      <td>-1.050917</td>\n",
       "    </tr>\n",
       "    <tr>\n",
       "      <th>5350</th>\n",
       "      <td>this is a very cheap memory foam it reminds me...</td>\n",
       "      <td>0</td>\n",
       "      <td>0</td>\n",
       "      <td>-0.673313</td>\n",
       "      <td>-0.713383</td>\n",
       "    </tr>\n",
       "  </tbody>\n",
       "</table>\n",
       "<p>2383 rows × 5 columns</p>\n",
       "</div>"
      ],
      "text/plain": [
       "                                                document  label  prediction  \\\n",
       "11639  no problems like the small format bottle easy ...      1           1   \n",
       "9817   well i like the song i shall believe and that ...      0           0   \n",
       "3808   the novel a northern light by jennifer donnell...      0           1   \n",
       "4559   truly frightening gruesome a gore-fest a blood...      1           0   \n",
       "9828   i love the firm workouts and i love the instru...      0           0   \n",
       "...                                                  ...    ...         ...   \n",
       "3579   camera worked great for us for 6 months easy t...      0           0   \n",
       "9754   this is a great back pack if there is anything...      1           1   \n",
       "8669   i have been using adobe acrobat for a few year...      1           1   \n",
       "11501  this book was written in the 80s was copy writ...      0           0   \n",
       "5350   this is a very cheap memory foam it reminds me...      0           0   \n",
       "\n",
       "       neg_log_prob  pos_log_prob  \n",
       "11639     -0.881536     -0.534685  \n",
       "9817      -0.597510     -0.798908  \n",
       "3808      -1.670109     -0.208534  \n",
       "4559      -0.637861     -0.751670  \n",
       "9828      -0.644053     -0.744777  \n",
       "...             ...           ...  \n",
       "3579      -0.379574     -1.152498  \n",
       "9754      -0.813853     -0.585454  \n",
       "8669      -1.283579     -0.324407  \n",
       "11501     -0.430194     -1.050917  \n",
       "5350      -0.673313     -0.713383  \n",
       "\n",
       "[2383 rows x 5 columns]"
      ]
     },
     "execution_count": 19,
     "metadata": {},
     "output_type": "execute_result"
    }
   ],
   "source": [
    "test_data['prediction'] = y_preds\n",
    "test_data['neg_log_prob'] = log_probas[:, 0]\n",
    "test_data['pos_log_prob'] = log_probas[:, 1]\n",
    "test_data"
   ]
  },
  {
   "cell_type": "code",
   "execution_count": 20,
   "id": "2692389b",
   "metadata": {},
   "outputs": [
    {
     "data": {
      "text/html": [
       "<div>\n",
       "<style scoped>\n",
       "    .dataframe tbody tr th:only-of-type {\n",
       "        vertical-align: middle;\n",
       "    }\n",
       "\n",
       "    .dataframe tbody tr th {\n",
       "        vertical-align: top;\n",
       "    }\n",
       "\n",
       "    .dataframe thead th {\n",
       "        text-align: right;\n",
       "    }\n",
       "</style>\n",
       "<table border=\"1\" class=\"dataframe\">\n",
       "  <thead>\n",
       "    <tr style=\"text-align: right;\">\n",
       "      <th></th>\n",
       "      <th>document</th>\n",
       "      <th>label</th>\n",
       "      <th>prediction</th>\n",
       "      <th>neg_log_prob</th>\n",
       "      <th>pos_log_prob</th>\n",
       "      <th>error_diff</th>\n",
       "    </tr>\n",
       "  </thead>\n",
       "  <tbody>\n",
       "    <tr>\n",
       "      <th>11639</th>\n",
       "      <td>no problems like the small format bottle easy ...</td>\n",
       "      <td>1</td>\n",
       "      <td>1</td>\n",
       "      <td>-0.881536</td>\n",
       "      <td>-0.534685</td>\n",
       "      <td>0.346852</td>\n",
       "    </tr>\n",
       "    <tr>\n",
       "      <th>9817</th>\n",
       "      <td>well i like the song i shall believe and that ...</td>\n",
       "      <td>0</td>\n",
       "      <td>0</td>\n",
       "      <td>-0.597510</td>\n",
       "      <td>-0.798908</td>\n",
       "      <td>0.201398</td>\n",
       "    </tr>\n",
       "    <tr>\n",
       "      <th>3808</th>\n",
       "      <td>the novel a northern light by jennifer donnell...</td>\n",
       "      <td>0</td>\n",
       "      <td>1</td>\n",
       "      <td>-1.670109</td>\n",
       "      <td>-0.208534</td>\n",
       "      <td>1.461575</td>\n",
       "    </tr>\n",
       "    <tr>\n",
       "      <th>4559</th>\n",
       "      <td>truly frightening gruesome a gore-fest a blood...</td>\n",
       "      <td>1</td>\n",
       "      <td>0</td>\n",
       "      <td>-0.637861</td>\n",
       "      <td>-0.751670</td>\n",
       "      <td>0.113810</td>\n",
       "    </tr>\n",
       "    <tr>\n",
       "      <th>9828</th>\n",
       "      <td>i love the firm workouts and i love the instru...</td>\n",
       "      <td>0</td>\n",
       "      <td>0</td>\n",
       "      <td>-0.644053</td>\n",
       "      <td>-0.744777</td>\n",
       "      <td>0.100724</td>\n",
       "    </tr>\n",
       "    <tr>\n",
       "      <th>...</th>\n",
       "      <td>...</td>\n",
       "      <td>...</td>\n",
       "      <td>...</td>\n",
       "      <td>...</td>\n",
       "      <td>...</td>\n",
       "      <td>...</td>\n",
       "    </tr>\n",
       "    <tr>\n",
       "      <th>3579</th>\n",
       "      <td>camera worked great for us for 6 months easy t...</td>\n",
       "      <td>0</td>\n",
       "      <td>0</td>\n",
       "      <td>-0.379574</td>\n",
       "      <td>-1.152498</td>\n",
       "      <td>0.772924</td>\n",
       "    </tr>\n",
       "    <tr>\n",
       "      <th>9754</th>\n",
       "      <td>this is a great back pack if there is anything...</td>\n",
       "      <td>1</td>\n",
       "      <td>1</td>\n",
       "      <td>-0.813853</td>\n",
       "      <td>-0.585454</td>\n",
       "      <td>0.228399</td>\n",
       "    </tr>\n",
       "    <tr>\n",
       "      <th>8669</th>\n",
       "      <td>i have been using adobe acrobat for a few year...</td>\n",
       "      <td>1</td>\n",
       "      <td>1</td>\n",
       "      <td>-1.283579</td>\n",
       "      <td>-0.324407</td>\n",
       "      <td>0.959172</td>\n",
       "    </tr>\n",
       "    <tr>\n",
       "      <th>11501</th>\n",
       "      <td>this book was written in the 80s was copy writ...</td>\n",
       "      <td>0</td>\n",
       "      <td>0</td>\n",
       "      <td>-0.430194</td>\n",
       "      <td>-1.050917</td>\n",
       "      <td>0.620724</td>\n",
       "    </tr>\n",
       "    <tr>\n",
       "      <th>5350</th>\n",
       "      <td>this is a very cheap memory foam it reminds me...</td>\n",
       "      <td>0</td>\n",
       "      <td>0</td>\n",
       "      <td>-0.673313</td>\n",
       "      <td>-0.713383</td>\n",
       "      <td>0.040071</td>\n",
       "    </tr>\n",
       "  </tbody>\n",
       "</table>\n",
       "<p>2383 rows × 6 columns</p>\n",
       "</div>"
      ],
      "text/plain": [
       "                                                document  label  prediction  \\\n",
       "11639  no problems like the small format bottle easy ...      1           1   \n",
       "9817   well i like the song i shall believe and that ...      0           0   \n",
       "3808   the novel a northern light by jennifer donnell...      0           1   \n",
       "4559   truly frightening gruesome a gore-fest a blood...      1           0   \n",
       "9828   i love the firm workouts and i love the instru...      0           0   \n",
       "...                                                  ...    ...         ...   \n",
       "3579   camera worked great for us for 6 months easy t...      0           0   \n",
       "9754   this is a great back pack if there is anything...      1           1   \n",
       "8669   i have been using adobe acrobat for a few year...      1           1   \n",
       "11501  this book was written in the 80s was copy writ...      0           0   \n",
       "5350   this is a very cheap memory foam it reminds me...      0           0   \n",
       "\n",
       "       neg_log_prob  pos_log_prob  error_diff  \n",
       "11639     -0.881536     -0.534685    0.346852  \n",
       "9817      -0.597510     -0.798908    0.201398  \n",
       "3808      -1.670109     -0.208534    1.461575  \n",
       "4559      -0.637861     -0.751670    0.113810  \n",
       "9828      -0.644053     -0.744777    0.100724  \n",
       "...             ...           ...         ...  \n",
       "3579      -0.379574     -1.152498    0.772924  \n",
       "9754      -0.813853     -0.585454    0.228399  \n",
       "8669      -1.283579     -0.324407    0.959172  \n",
       "11501     -0.430194     -1.050917    0.620724  \n",
       "5350      -0.673313     -0.713383    0.040071  \n",
       "\n",
       "[2383 rows x 6 columns]"
      ]
     },
     "execution_count": 20,
     "metadata": {},
     "output_type": "execute_result"
    }
   ],
   "source": [
    "test_data['error_diff'] = np.abs(test_data['neg_log_prob'] - test_data['pos_log_prob'])\n",
    "test_data"
   ]
  },
  {
   "cell_type": "code",
   "execution_count": 21,
   "id": "4b11b3d4",
   "metadata": {},
   "outputs": [
    {
     "data": {
      "text/html": [
       "<div>\n",
       "<style scoped>\n",
       "    .dataframe tbody tr th:only-of-type {\n",
       "        vertical-align: middle;\n",
       "    }\n",
       "\n",
       "    .dataframe tbody tr th {\n",
       "        vertical-align: top;\n",
       "    }\n",
       "\n",
       "    .dataframe thead th {\n",
       "        text-align: right;\n",
       "    }\n",
       "</style>\n",
       "<table border=\"1\" class=\"dataframe\">\n",
       "  <thead>\n",
       "    <tr style=\"text-align: right;\">\n",
       "      <th></th>\n",
       "      <th>document</th>\n",
       "      <th>label</th>\n",
       "      <th>prediction</th>\n",
       "      <th>neg_log_prob</th>\n",
       "      <th>pos_log_prob</th>\n",
       "      <th>error_diff</th>\n",
       "    </tr>\n",
       "  </thead>\n",
       "  <tbody>\n",
       "    <tr>\n",
       "      <th>5602</th>\n",
       "      <td>i bought it for my 18-55 ef-s and it looks lik...</td>\n",
       "      <td>0</td>\n",
       "      <td>1</td>\n",
       "      <td>-0.693438</td>\n",
       "      <td>-0.692857</td>\n",
       "      <td>0.000581</td>\n",
       "    </tr>\n",
       "    <tr>\n",
       "      <th>612</th>\n",
       "      <td>in the commencement mr. utterson and his cousi...</td>\n",
       "      <td>0</td>\n",
       "      <td>1</td>\n",
       "      <td>-0.694298</td>\n",
       "      <td>-0.691998</td>\n",
       "      <td>0.002299</td>\n",
       "    </tr>\n",
       "    <tr>\n",
       "      <th>11752</th>\n",
       "      <td>vet producer don was is aboard for this one an...</td>\n",
       "      <td>1</td>\n",
       "      <td>0</td>\n",
       "      <td>-0.691770</td>\n",
       "      <td>-0.694526</td>\n",
       "      <td>0.002756</td>\n",
       "    </tr>\n",
       "    <tr>\n",
       "      <th>4846</th>\n",
       "      <td>my daughter at u of m got me interested in the...</td>\n",
       "      <td>1</td>\n",
       "      <td>0</td>\n",
       "      <td>-0.691651</td>\n",
       "      <td>-0.694646</td>\n",
       "      <td>0.002995</td>\n",
       "    </tr>\n",
       "    <tr>\n",
       "      <th>7936</th>\n",
       "      <td>i absolutely love this camera i got it about 3...</td>\n",
       "      <td>1</td>\n",
       "      <td>0</td>\n",
       "      <td>-0.690966</td>\n",
       "      <td>-0.695333</td>\n",
       "      <td>0.004367</td>\n",
       "    </tr>\n",
       "    <tr>\n",
       "      <th>...</th>\n",
       "      <td>...</td>\n",
       "      <td>...</td>\n",
       "      <td>...</td>\n",
       "      <td>...</td>\n",
       "      <td>...</td>\n",
       "      <td>...</td>\n",
       "    </tr>\n",
       "    <tr>\n",
       "      <th>275</th>\n",
       "      <td>great cd imus in the morning recommended highl...</td>\n",
       "      <td>0</td>\n",
       "      <td>1</td>\n",
       "      <td>-1.627936</td>\n",
       "      <td>-0.218572</td>\n",
       "      <td>1.409364</td>\n",
       "    </tr>\n",
       "    <tr>\n",
       "      <th>7481</th>\n",
       "      <td>great cd imus in the morning recommended highl...</td>\n",
       "      <td>0</td>\n",
       "      <td>1</td>\n",
       "      <td>-1.627936</td>\n",
       "      <td>-0.218572</td>\n",
       "      <td>1.409364</td>\n",
       "    </tr>\n",
       "    <tr>\n",
       "      <th>1405</th>\n",
       "      <td>i started off using turbotax this year but ret...</td>\n",
       "      <td>1</td>\n",
       "      <td>0</td>\n",
       "      <td>-0.210928</td>\n",
       "      <td>-1.659851</td>\n",
       "      <td>1.448923</td>\n",
       "    </tr>\n",
       "    <tr>\n",
       "      <th>3808</th>\n",
       "      <td>the novel a northern light by jennifer donnell...</td>\n",
       "      <td>0</td>\n",
       "      <td>1</td>\n",
       "      <td>-1.670109</td>\n",
       "      <td>-0.208534</td>\n",
       "      <td>1.461575</td>\n",
       "    </tr>\n",
       "    <tr>\n",
       "      <th>9848</th>\n",
       "      <td>i bought another one of these because i droppe...</td>\n",
       "      <td>1</td>\n",
       "      <td>0</td>\n",
       "      <td>-0.197031</td>\n",
       "      <td>-1.721292</td>\n",
       "      <td>1.524260</td>\n",
       "    </tr>\n",
       "  </tbody>\n",
       "</table>\n",
       "<p>372 rows × 6 columns</p>\n",
       "</div>"
      ],
      "text/plain": [
       "                                                document  label  prediction  \\\n",
       "5602   i bought it for my 18-55 ef-s and it looks lik...      0           1   \n",
       "612    in the commencement mr. utterson and his cousi...      0           1   \n",
       "11752  vet producer don was is aboard for this one an...      1           0   \n",
       "4846   my daughter at u of m got me interested in the...      1           0   \n",
       "7936   i absolutely love this camera i got it about 3...      1           0   \n",
       "...                                                  ...    ...         ...   \n",
       "275    great cd imus in the morning recommended highl...      0           1   \n",
       "7481   great cd imus in the morning recommended highl...      0           1   \n",
       "1405   i started off using turbotax this year but ret...      1           0   \n",
       "3808   the novel a northern light by jennifer donnell...      0           1   \n",
       "9848   i bought another one of these because i droppe...      1           0   \n",
       "\n",
       "       neg_log_prob  pos_log_prob  error_diff  \n",
       "5602      -0.693438     -0.692857    0.000581  \n",
       "612       -0.694298     -0.691998    0.002299  \n",
       "11752     -0.691770     -0.694526    0.002756  \n",
       "4846      -0.691651     -0.694646    0.002995  \n",
       "7936      -0.690966     -0.695333    0.004367  \n",
       "...             ...           ...         ...  \n",
       "275       -1.627936     -0.218572    1.409364  \n",
       "7481      -1.627936     -0.218572    1.409364  \n",
       "1405      -0.210928     -1.659851    1.448923  \n",
       "3808      -1.670109     -0.208534    1.461575  \n",
       "9848      -0.197031     -1.721292    1.524260  \n",
       "\n",
       "[372 rows x 6 columns]"
      ]
     },
     "execution_count": 21,
     "metadata": {},
     "output_type": "execute_result"
    }
   ],
   "source": [
    "test_data.query('label != prediction').sort_values('error_diff', ascending=True)"
   ]
  },
  {
   "cell_type": "code",
   "execution_count": null,
   "id": "27bb6372",
   "metadata": {},
   "outputs": [],
   "source": []
  }
 ],
 "metadata": {
  "kernelspec": {
   "display_name": "Python 3 (ipykernel)",
   "language": "python",
   "name": "python3"
  },
  "language_info": {
   "codemirror_mode": {
    "name": "ipython",
    "version": 3
   },
   "file_extension": ".py",
   "mimetype": "text/x-python",
   "name": "python",
   "nbconvert_exporter": "python",
   "pygments_lexer": "ipython3",
   "version": "3.10.5"
  }
 },
 "nbformat": 4,
 "nbformat_minor": 5
}
